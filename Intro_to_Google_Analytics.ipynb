{
  "nbformat": 4,
  "nbformat_minor": 0,
  "metadata": {
    "colab": {
      "provenance": [],
      "toc_visible": true,
      "authorship_tag": "ABX9TyPgiJ/JUu42Tf1sJTbdcSC4",
      "include_colab_link": true
    },
    "kernelspec": {
      "name": "python3",
      "display_name": "Python 3"
    },
    "language_info": {
      "name": "python"
    }
  },
  "cells": [
    {
      "cell_type": "markdown",
      "metadata": {
        "id": "view-in-github",
        "colab_type": "text"
      },
      "source": [
        "<a href=\"https://colab.research.google.com/github/canisius-DAT512/Spring-23-Week-9/blob/main/Intro_to_Google_Analytics.ipynb\" target=\"_parent\"><img src=\"https://colab.research.google.com/assets/colab-badge.svg\" alt=\"Open In Colab\"/></a>"
      ]
    },
    {
      "cell_type": "markdown",
      "source": [
        "# Introduction to Google Analytics\n",
        "DAT 512 Canisius College <br>\n",
        "Adjunct Professor Paul Lambson\n",
        "\n",
        "Learning Objectives\n",
        "- Learn the theory behind web tracking\n",
        "- Review the Google Analytics tool\n",
        "- Query common questions from BQ\n",
        "- Create a cart abandon campaign\n"
      ],
      "metadata": {
        "id": "KsScRAb9U7kx"
      }
    },
    {
      "cell_type": "markdown",
      "source": [
        "# Theory of Web Tracking\n",
        "Who is doing what on our site and why does it matter?\n",
        "\n",
        "Tracking on a website, how does it work?\n",
        "\n",
        "Pixels and Cookies, a unique recipe.\n",
        "\n",
        "***Tracking Pixel*** 1x1, transparent images embedded in a website, email, or ad, and which contain a link to an external server.\n",
        "\n",
        "***Cookie***, are text files with small pieces of data — like a username and password — that are used to identify your computer as you use a computer network. Specific cookies known as HTTP cookies are used to identify specific users and improve your web browsing experience.\n",
        "\n",
        "Example: go to  site [TLAConsultants.com](TLAConsultants.com)\n",
        "- right click 'inspect'\n",
        "- under ***Element*** tab, expand ***Head***\n",
        "- find the tag below\n",
        "```js\n",
        "<script \n",
        "  async=\"\" \n",
        "  src=\"https://www.googletagmanager.com/gtag/js?id=G-9PRMPLSV3W\"\n",
        "  nonce=\"\">\n",
        "</script>\n",
        "```\n",
        "\n",
        "This tab sends an api call to the url listed. Let's inspect that API call by monitoring traffic on reload.\n",
        "- go to the ***Network*** tab\n",
        "- now refresh the browswer window\n",
        "- in the table all the API calls that are made the page loads will be shown\n",
        "- find the url call that is listed in the tag above\n",
        "- select the ***Headers*** tab then the ***Payload*** tab to see all the information being sent to GTM or Google Tag Manager\n",
        "\n",
        "Additionally a ***Cookie*** has been placed in your browser. \n",
        "- developer tools go to the tab ***Application***\n",
        "- in the object explorere select Cookies and chose the site url\n",
        "- you'll see the list of cahced information the site is placing in memory or the browswer that is persistent and will be available to the site when this browser returns to the site. \n",
        "\n",
        "\n",
        "So, websites send information about each site visit to a 3rd party, and they keep track of each browswer across visits. ***How does this feel?***\n",
        "\n",
        "## Discussion: What does this tracking enable?\n",
        "\n",
        "## Discussion: How about privacy?\n",
        "\n",
        "## Why Google Analytics?\n",
        "\n",
        "Google analytics the leader in web analytics tools [check out these stats](https://trends.builtwith.com/analytics).\n",
        "\n",
        "Walkthrough of [Google Analytics Platform](https://analytics.google.com/analytics/web/#/)"
      ],
      "metadata": {
        "id": "ew_vfp4aFgw_"
      }
    },
    {
      "cell_type": "code",
      "execution_count": null,
      "metadata": {
        "id": "txs684-aS62o"
      },
      "outputs": [],
      "source": [
        "# authenticate with the google account used in console\n",
        "from google.colab import auth\n",
        "auth.authenticate_user()"
      ]
    },
    {
      "cell_type": "code",
      "source": [
        "import pandas as pd\n",
        "\n",
        "project_id = 'tla-consultants'\n",
        "sql = '''\n",
        "\n",
        "'''\n",
        "\n",
        "orders = pd.io.gbq.read_gbq(sql,project_id=project_id)"
      ],
      "metadata": {
        "id": "lB-C4zqSTEe7"
      },
      "execution_count": null,
      "outputs": []
    },
    {
      "cell_type": "markdown",
      "source": [
        "# Session analytics\n",
        "- what perecent of sessions are anonymous?\n",
        "- what is the ratio of items placed in carts to items purchased\n",
        "  - does this vary by traffic source of browswer\n",
        "- do window shoppers exists? what is the largest number of items added to a cart without purhasing?\n",
        "- what's the average time from site entrance to a purchase?\n",
        "- have bounce rates been increasing or decreasing over time?\n",
        "- where do most website exits happen?\n"
      ],
      "metadata": {
        "id": "-hJdyt8Gjepk"
      }
    },
    {
      "cell_type": "code",
      "source": [],
      "metadata": {
        "id": "p-eKkQ-nSFJD"
      },
      "execution_count": null,
      "outputs": []
    },
    {
      "cell_type": "markdown",
      "source": [
        "# Use Case #1: Cart Abandons\n",
        "A common remarketing action to take, find sessions where an item was placed into a shopping cart and them buy digital media around the web to invite a user back to the site to complete the purchase, maybe add a discount."
      ],
      "metadata": {
        "id": "GDEbfot0jkEd"
      }
    },
    {
      "cell_type": "code",
      "source": [],
      "metadata": {
        "id": "VLAijqNFnmSh"
      },
      "execution_count": null,
      "outputs": []
    },
    {
      "cell_type": "markdown",
      "source": [
        "\n",
        "# Use Case #2: Post Purchase Offers\n",
        "Using the reccomendation engine from last week's lesson, find a user who made a purchase and create a reccomendation of an additional purchase. This could be send out via a CRM, instore deal or digital advertising."
      ],
      "metadata": {
        "id": "ll7tLSjkjpNW"
      }
    },
    {
      "cell_type": "code",
      "source": [],
      "metadata": {
        "id": "g-8WgVqHFISi"
      },
      "execution_count": null,
      "outputs": []
    }
  ]
}